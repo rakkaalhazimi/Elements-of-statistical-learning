{
  "nbformat": 4,
  "nbformat_minor": 0,
  "metadata": {
    "colab": {
      "name": "Orthogonal_Linear_Regression.ipynb",
      "provenance": [],
      "authorship_tag": "ABX9TyPrbBoHTAoAPg0aJBIP1tl5",
      "include_colab_link": true
    },
    "kernelspec": {
      "name": "python3",
      "display_name": "Python 3"
    }
  },
  "cells": [
    {
      "cell_type": "markdown",
      "metadata": {
        "id": "view-in-github",
        "colab_type": "text"
      },
      "source": [
        "<a href=\"https://colab.research.google.com/github/rakkaalhazimi/Elements-of-statistical-learning/blob/main/chapter3/Orthogonal_Linear_Regression.ipynb\" target=\"_parent\"><img src=\"https://colab.research.google.com/assets/colab-badge.svg\" alt=\"Open In Colab\"/></a>"
      ]
    },
    {
      "cell_type": "code",
      "metadata": {
        "id": "QIs0cfesz9N5"
      },
      "source": [
        "import numpy as np\r\n",
        "import matplotlib.pyplot as plt\r\n",
        "%matplotlib inline\r\n",
        "from scipy import linalg, stats\r\n",
        "from sklearn.linear_model import LinearRegression\r\n",
        "from sklearn.metrics import mean_squared_error"
      ],
      "execution_count": null,
      "outputs": []
    },
    {
      "cell_type": "code",
      "metadata": {
        "id": "tmi7or83XVgT"
      },
      "source": [
        "def orthogonalize(X):\r\n",
        "    p = X.shape[1]\r\n",
        "    G = np.eye(p)\r\n",
        "    Z = X.copy()\r\n",
        "    for j in range(1, p): # for j = 1, 2, ..., p\r\n",
        "        for l in range(j): # for l <= j\r\n",
        "            G[l, j] = np.dot(Z[:, l], X[:, j]) / np.dot(Z[:, l], Z[:, l])\r\n",
        "        for k in range(j): # for k <= j\r\n",
        "            Z[:, j] -= G[k, j] * Z[:, k]\r\n",
        "    return Z, G\r\n",
        "\r\n",
        "def least_squares_qr(data_x, data_y):\r\n",
        "    X = np.c_[np.ones((len(data_x), 1)), data_x]\r\n",
        "    Z, G = orthogonalize(X)\r\n",
        "\r\n",
        "    D = linalg.norm(Z, axis=0)\r\n",
        "    Q = Z / D\r\n",
        "    R = np.diag(D) @ G\r\n",
        "    beta = linalg.solve_triangular(R, Q.T @ data_y)\r\n",
        "    \r\n",
        "    return Q, R, beta\r\n",
        "\r\n",
        "x = np.array([[1, 2], [3, 2], [4, 3], [5, 3]], dtype=\"float\")\r\n",
        "y = np.array([[3], [4], [6], [8]])\r\n",
        "q, r, beta = least_squares_qr(x, y)"
      ],
      "execution_count": null,
      "outputs": []
    },
    {
      "cell_type": "code",
      "metadata": {
        "colab": {
          "base_uri": "https://localhost:8080/"
        },
        "id": "KmcbwIfPDYZs",
        "outputId": "40e0c718-2704-458d-872a-76c67f8699df"
      },
      "source": [
        "def orthogonal_projection(y, x):\r\n",
        "    return np.dot(x, y) / np.dot(x, x)\r\n",
        "\r\n",
        "def orthogonal_lq(data_x):\r\n",
        "    # One values vector\r\n",
        "    init_ones = np.ones(data_x.shape[0])\r\n",
        "\r\n",
        "    # Add constant one to variable X and Z\r\n",
        "    X = np.column_stack((init_ones, data_x))\r\n",
        "    Z = X.copy()\r\n",
        "    G = np.eye(X.shape[-1])\r\n",
        "\r\n",
        "    # p-dimension\r\n",
        "    p = X.shape[-1]\r\n",
        "\r\n",
        "    for j in range(p):\r\n",
        "        for l in range(j):\r\n",
        "            G[l, j] = orthogonal_projection(X[:, j], Z[:, l])\r\n",
        "        for k in range(j):\r\n",
        "            Z[:, j] -= G[k, j] * Z[:, k]\r\n",
        "\r\n",
        "    return Z, G\r\n",
        "\r\n",
        "x = np.array([[1, 2], [3, 2], [4, 3], [5, 3]], dtype=\"float\")\r\n",
        "x_swap = x.copy()\r\n",
        "x_swap[:, 0], x_swap[:, 1] = x[:, 1], x[:, 0]\r\n",
        "\r\n",
        "y = np.array([[3], [4], [6], [8]])\r\n",
        "z, g = orthogonal_lq(x)\r\n",
        "\r\n",
        "orthogonal_projection(y, z[:, -1])"
      ],
      "execution_count": null,
      "outputs": [
        {
          "output_type": "execute_result",
          "data": {
            "text/plain": [
              "array([1.5])"
            ]
          },
          "metadata": {
            "tags": []
          },
          "execution_count": 4
        }
      ]
    },
    {
      "cell_type": "code",
      "metadata": {
        "id": "o764jUYdEXjM",
        "colab": {
          "base_uri": "https://localhost:8080/"
        },
        "outputId": "5f630656-d390-42f6-a2ad-be779f76dc6b"
      },
      "source": [
        "linreg = LinearRegression()\r\n",
        "linreg.fit(x, y)\r\n",
        "linreg.intercept_"
      ],
      "execution_count": null,
      "outputs": [
        {
          "output_type": "execute_result",
          "data": {
            "text/plain": [
              "array([-1.1])"
            ]
          },
          "metadata": {
            "tags": []
          },
          "execution_count": 5
        }
      ]
    },
    {
      "cell_type": "markdown",
      "metadata": {
        "id": "_GTQ9dUSohiy"
      },
      "source": [
        "# Significance Test"
      ]
    },
    {
      "cell_type": "code",
      "metadata": {
        "colab": {
          "base_uri": "https://localhost:8080/"
        },
        "id": "gi3hKNRtogzn",
        "outputId": "6fd3ba04-843e-4f77-9974-b6dae54a39fd"
      },
      "source": [
        "y_true = y                                      # true y\r\n",
        "y_pred = linreg.predict(x)                      # pred y\r\n",
        "mse = mean_squared_error(y_true, y_pred)\r\n",
        "rmse = np.sqrt(mse)                             # std of linear regression\r\n",
        "diag = linalg.inv(np.matmul(x.T, x))\r\n",
        "\r\n",
        "init_ones = np.ones(x.shape[0])\r\n",
        "x_test = np.column_stack((init_ones, x))\r\n",
        "\r\n",
        "def diag_op(x):\r\n",
        "    return linalg.inv(np.matmul(x.T, x))\r\n",
        "\r\n",
        "x_diag = diag_op(x_test)\r\n"
      ],
      "execution_count": null,
      "outputs": [
        {
          "output_type": "execute_result",
          "data": {
            "text/plain": [
              "array([[10.1,  1.2, -5.5],\n",
              "       [ 1.2,  0.4, -1. ],\n",
              "       [-5.5, -1. ,  3.5]])"
            ]
          },
          "metadata": {
            "tags": []
          },
          "execution_count": 20
        }
      ]
    },
    {
      "cell_type": "code",
      "metadata": {
        "colab": {
          "base_uri": "https://localhost:8080/"
        },
        "id": "HCGDKZvu3ZGl",
        "outputId": "eaa1b3ce-25fa-4c2e-fd2a-ec50d3f6ba45"
      },
      "source": [
        ""
      ],
      "execution_count": null,
      "outputs": [
        {
          "output_type": "execute_result",
          "data": {
            "text/plain": [
              "array([10.1,  0.4,  3.5])"
            ]
          },
          "metadata": {
            "tags": []
          },
          "execution_count": 26
        }
      ]
    },
    {
      "cell_type": "code",
      "metadata": {
        "colab": {
          "base_uri": "https://localhost:8080/"
        },
        "id": "O_O5_x0r29Ij",
        "outputId": "0d49032d-2e34-4b53-bf4a-c98b70508531"
      },
      "source": [
        "# Significance test for B1\r\n",
        "b1 = linreg.coef_.flatten()[0]\r\n",
        "\r\n",
        "z_score = b1 / (rmse * np.diag(x_diag)[1])\r\n",
        "z_score"
      ],
      "execution_count": null,
      "outputs": [
        {
          "output_type": "execute_result",
          "data": {
            "text/plain": [
              "4.216370213557864"
            ]
          },
          "metadata": {
            "tags": []
          },
          "execution_count": 28
        }
      ]
    },
    {
      "cell_type": "markdown",
      "metadata": {
        "id": "kKZoLoBL5Do-"
      },
      "source": [
        "# Singularity"
      ]
    },
    {
      "cell_type": "code",
      "metadata": {
        "colab": {
          "base_uri": "https://localhost:8080/"
        },
        "id": "D85vzAe05DEt",
        "outputId": "9d53f751-b690-4d42-90ee-a891d1d5c8d4"
      },
      "source": [
        "A = np.array([[2, 3, 5], \r\n",
        "              [1, 2, 3], \r\n",
        "              [4, 2, 6]])\r\n",
        "\r\n",
        "np.matmul(A.T, A)"
      ],
      "execution_count": null,
      "outputs": [
        {
          "output_type": "execute_result",
          "data": {
            "text/plain": [
              "array([[21, 16, 37],\n",
              "       [16, 17, 33],\n",
              "       [37, 33, 70]])"
            ]
          },
          "metadata": {
            "tags": []
          },
          "execution_count": 37
        }
      ]
    },
    {
      "cell_type": "code",
      "metadata": {
        "colab": {
          "base_uri": "https://localhost:8080/"
        },
        "id": "qDlcLO1W6fFt",
        "outputId": "2f1386cb-18d7-4479-e93f-699be767fcfd"
      },
      "source": [
        "Q = np.array([[1, 1], \r\n",
        "              [1, -1]])\r\n",
        "\r\n",
        "np.matmul(Q.T, Q)"
      ],
      "execution_count": null,
      "outputs": [
        {
          "output_type": "execute_result",
          "data": {
            "text/plain": [
              "array([[2, 0],\n",
              "       [0, 2]])"
            ]
          },
          "metadata": {
            "tags": []
          },
          "execution_count": 43
        }
      ]
    },
    {
      "cell_type": "markdown",
      "metadata": {
        "id": "fKXRBcL2-pox"
      },
      "source": [
        "# Hat matrix method"
      ]
    },
    {
      "cell_type": "code",
      "metadata": {
        "colab": {
          "base_uri": "https://localhost:8080/"
        },
        "id": "2AeAMeQY-tTC",
        "outputId": "a0ab4ce6-4c65-4fa2-e443-264fce8366a9"
      },
      "source": [
        "def hat_matrix(x):\r\n",
        "    return np.matmul(x, np.matmul(\r\n",
        "                    linalg.inv(np.matmul(x.T, x)), x.T))\r\n",
        "    \r\n",
        "hat = hat_matrix(x_test)\r\n",
        "np.matmul(hat, y)"
      ],
      "execution_count": null,
      "outputs": [
        {
          "output_type": "execute_result",
          "data": {
            "text/plain": [
              "array([[2.7],\n",
              "       [4.3],\n",
              "       [6.6],\n",
              "       [7.4]])"
            ]
          },
          "metadata": {
            "tags": []
          },
          "execution_count": 49
        }
      ]
    },
    {
      "cell_type": "code",
      "metadata": {
        "colab": {
          "base_uri": "https://localhost:8080/"
        },
        "id": "PTxYybt2_xbF",
        "outputId": "63649331-59de-450a-fc86-2a5a992acfbe"
      },
      "source": [
        "linreg.predict(x)"
      ],
      "execution_count": null,
      "outputs": [
        {
          "output_type": "execute_result",
          "data": {
            "text/plain": [
              "array([[2.7],\n",
              "       [4.3],\n",
              "       [6.6],\n",
              "       [7.4]])"
            ]
          },
          "metadata": {
            "tags": []
          },
          "execution_count": 50
        }
      ]
    },
    {
      "cell_type": "markdown",
      "metadata": {
        "id": "KI5ZNrO3EYmo"
      },
      "source": [
        "# Visualization Test"
      ]
    },
    {
      "cell_type": "code",
      "metadata": {
        "id": "QBnP8vLGKTw6",
        "colab": {
          "base_uri": "https://localhost:8080/"
        },
        "outputId": "188c8387-98ac-4647-b930-93ec3d3bb8e8"
      },
      "source": [
        "a = np.array([2, 4])\r\n",
        "b = np.array([3, 2])\r\n",
        "\r\n",
        "# Data\r\n",
        "x = a\r\n",
        "y = np.array([4, 7])\r\n",
        "\r\n",
        "# Z and G values\r\n",
        "Z, G = orthogonal_lq(x)\r\n",
        "z0, z1 = np.hsplit(Z, 2)\r\n",
        "\r\n",
        "# coeff\r\n",
        "c = z0 * G[0, 1]\r\n",
        "c\r\n",
        "\r\n",
        "# y-hat\r\n",
        "y_h = x * orthogonal_projection(y, z1.flatten())\r\n",
        "y_h"
      ],
      "execution_count": null,
      "outputs": [
        {
          "output_type": "execute_result",
          "data": {
            "text/plain": [
              "array([3., 6.])"
            ]
          },
          "metadata": {
            "tags": []
          },
          "execution_count": 6
        }
      ]
    },
    {
      "cell_type": "code",
      "metadata": {
        "colab": {
          "base_uri": "https://localhost:8080/"
        },
        "id": "duL0QdixsAyh",
        "outputId": "b54d316f-f04b-476a-fc14-1eb926336155"
      },
      "source": [
        "z1y = z1 * orthogonal_projection(y, z1.flatten())\r\n",
        "r = y - z1y.flatten()\r\n",
        "r"
      ],
      "execution_count": null,
      "outputs": [
        {
          "output_type": "execute_result",
          "data": {
            "text/plain": [
              "array([5.5, 5.5])"
            ]
          },
          "metadata": {
            "tags": []
          },
          "execution_count": 7
        }
      ]
    },
    {
      "cell_type": "code",
      "metadata": {
        "id": "5ZE3fClY670O"
      },
      "source": [
        "def create_arrow(ax, dx, dy, label=None, color=None):\r\n",
        "    ax.arrow(0, 0, dx, dy, \r\n",
        "             head_width=0.2,\r\n",
        "             ec=color, fc=color, label=label)\r\n",
        "    offset = 1.1\r\n",
        "    ax.text(dx * offset, dy * offset, label)\r\n",
        "\r\n",
        "\r\n",
        "def create_vector(vectors: list, name: list, colors: list):\r\n",
        "\r\n",
        "    # Flatten all vectors\r\n",
        "    vectors = list(map(lambda x: x.flatten(), vectors))\r\n",
        "\r\n",
        "    fig, ax = plt.subplots(figsize=(10, 10))\r\n",
        "    limit = (-15, 15)\r\n",
        "    \r\n",
        "    ax.vlines(0, *limit, linestyles=\"dashed\")\r\n",
        "    ax.hlines(0, *limit, linestyles=\"dashed\")\r\n",
        "\r\n",
        "    ax.set_aspect(\"equal\")\r\n",
        "    ax.set(xlim=limit, ylim=limit)\r\n",
        "\r\n",
        "    for index, (x, y) in enumerate(vectors):\r\n",
        "        create_arrow(ax, x, y, name[index], colors[index])\r\n",
        "    plt.show()"
      ],
      "execution_count": null,
      "outputs": []
    },
    {
      "cell_type": "code",
      "metadata": {
        "colab": {
          "base_uri": "https://localhost:8080/",
          "height": 596
        },
        "id": "OtJeJ49iU_CG",
        "outputId": "c87ad704-a1ff-4ee8-e2f2-ced2b00daadf"
      },
      "source": [
        "vectors = [y, x, z0, z1, z1y, r, y_h] #c, y_h]\r\n",
        "names = [\"y\", \"x\", \"z0\", \"z1\", \"z1y\", \"r\", \"yh\"] # \"c\", \"y_h\"]\r\n",
        "colors = [\"g\", \"k\", \"r\", \"b\", \"y\", \"m\", \"y\"] # \"y\", \"m\"]\r\n",
        "\r\n",
        "create_vector(vectors, names, colors)"
      ],
      "execution_count": null,
      "outputs": [
        {
          "output_type": "display_data",
          "data": {
            "image/png": "[encoded data removed]",
            "text/plain": [
              "<Figure size 720x720 with 1 Axes>"
            ]
          },
          "metadata": {
            "tags": [],
            "needs_background": "light"
          }
        }
      ]
    },
    {
      "cell_type": "code",
      "metadata": {
        "id": "bDflHJ6xtT4-",
        "colab": {
          "base_uri": "https://localhost:8080/",
          "height": 596
        },
        "outputId": "65bdf267-7273-4544-b0ae-05cb317d7a4e"
      },
      "source": [
        "xx = (x * orthogonal_projection(y, x))\r\n",
        "\r\n",
        "create_vector([xx, y], [\"x\", \"y\"], [\"r\", \"k\"])"
      ],
      "execution_count": null,
      "outputs": [
        {
          "output_type": "display_data",
          "data": {
            "image/png": "[encoded data removed]",
            "text/plain": [
              "<Figure size 720x720 with 1 Axes>"
            ]
          },
          "metadata": {
            "tags": [],
            "needs_background": "light"
          }
        }
      ]
    },
    {
      "cell_type": "code",
      "metadata": {
        "colab": {
          "base_uri": "https://localhost:8080/",
          "height": 596
        },
        "id": "eVHj_QFQvfB0",
        "outputId": "9aeeb270-8045-44c7-e90c-a245280ce6e0"
      },
      "source": [
        "new_c = (x * orthogonal_projection(z0.flatten(), x))\r\n",
        "new_z = z0.flatten() - new_c\r\n",
        "create_vector([new_z, z1, x], [\"new_z\", \"z1\", \"x\"], [\"r\", \"g\", \"b\"])"
      ],
      "execution_count": null,
      "outputs": [
        {
          "output_type": "display_data",
          "data": {
            "image/png": "[encoded data removed]",
            "text/plain": [
              "<Figure size 720x720 with 1 Axes>"
            ]
          },
          "metadata": {
            "tags": [],
            "needs_background": "light"
          }
        }
      ]
    },
    {
      "cell_type": "code",
      "metadata": {
        "colab": {
          "base_uri": "https://localhost:8080/",
          "height": 596
        },
        "id": "DuNBYFefxAVW",
        "outputId": "8d8f2f58-7d7c-402b-fb04-685d07a32cb1"
      },
      "source": [
        "B0 = orthogonal_projection(y, new_z)\r\n",
        "B1 = orthogonal_projection(y, z1.flatten())\r\n",
        "\r\n",
        "e1 = np.array([1, 1]) * B0\r\n",
        "e2 = x * B1\r\n",
        "\r\n",
        "vectors = [e1, e2, e1 + e2, z1, new_z]\r\n",
        "names = [\"x0\", \"x1\", \"y\", \"z1\", \"z0\"]\r\n",
        "colors = [\"r\", \"k\", \"y\", \"g\", \"m\"]\r\n",
        "create_vector(vectors, names, colors)"
      ],
      "execution_count": null,
      "outputs": [
        {
          "output_type": "display_data",
          "data": {
            "image/png": "[encoded data removed]",
            "text/plain": [
              "<Figure size 720x720 with 1 Axes>"
            ]
          },
          "metadata": {
            "tags": [],
            "needs_background": "light"
          }
        }
      ]
    }
  ]
}
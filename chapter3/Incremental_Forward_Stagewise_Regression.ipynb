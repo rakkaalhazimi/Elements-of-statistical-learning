{
  "nbformat": 4,
  "nbformat_minor": 0,
  "metadata": {
    "colab": {
      "name": "Incremental_Forward_Stagewise_Regression.ipynb",
      "provenance": [],
      "authorship_tag": "ABX9TyOe5/cnuQTQn54bmv7zsP6O",
      "include_colab_link": true
    },
    "kernelspec": {
      "name": "python3",
      "display_name": "Python 3"
    }
  },
  "cells": [
    {
      "cell_type": "markdown",
      "metadata": {
        "id": "view-in-github",
        "colab_type": "text"
      },
      "source": [
        "<a href=\"https://colab.research.google.com/github/rakkaalhazimi/Elements-of-statistical-learning/blob/main/chapter3/Incremental_Forward_Stagewise_Regression.ipynb\" target=\"_parent\"><img src=\"https://colab.research.google.com/assets/colab-badge.svg\" alt=\"Open In Colab\"/></a>"
      ]
    },
    {
      "cell_type": "code",
      "metadata": {
        "id": "Y_cYeXTDJ1Yy"
      },
      "source": [
        "import numpy as np\r\n",
        "import pandas as pd\r\n",
        "import matplotlib.pyplot as plt\r\n",
        "import seaborn as sns; sns.set()\r\n",
        "\r\n",
        "from sklearn.datasets import load_boston"
      ],
      "execution_count": 2,
      "outputs": []
    },
    {
      "cell_type": "code",
      "metadata": {
        "id": "hW8xqAZJJ8QN"
      },
      "source": [
        "data = load_boston()\r\n",
        "X = data.data\r\n",
        "y = data.target\r\n",
        "\r\n"
      ],
      "execution_count": null,
      "outputs": []
    }
  ]
}
{
  "nbformat": 4,
  "nbformat_minor": 0,
  "metadata": {
    "colab": {
      "name": "Incremental_Forward_Stagewise_Regression.ipynb",
      "provenance": [],
      "collapsed_sections": [],
      "authorship_tag": "ABX9TyOB3Azz9U0lPQ+ay4Do9q6P",
      "include_colab_link": true
    },
    "kernelspec": {
      "name": "python3",
      "display_name": "Python 3"
    }
  },
  "cells": [
    {
      "cell_type": "markdown",
      "metadata": {
        "id": "view-in-github",
        "colab_type": "text"
      },
      "source": [
        "<a href=\"https://colab.research.google.com/github/rakkaalhazimi/Elements-of-statistical-learning/blob/main/chapter3/Incremental_Forward_Stagewise_Regression.ipynb\" target=\"_parent\"><img src=\"https://colab.research.google.com/assets/colab-badge.svg\" alt=\"Open In Colab\"/></a>"
      ]
    },
    {
      "cell_type": "code",
      "metadata": {
        "id": "Y_cYeXTDJ1Yy"
      },
      "source": [
        "# Data science weapons\r\n",
        "import numpy as np\r\n",
        "import pandas as pd\r\n",
        "import matplotlib.pyplot as plt\r\n",
        "import seaborn as sns; sns.set()\r\n",
        "\r\n",
        "# Pearson correlation\r\n",
        "from scipy.stats import pearsonr\r\n",
        "\r\n",
        "# Datasets\r\n",
        "from sklearn.datasets import load_boston"
      ],
      "execution_count": 1,
      "outputs": []
    },
    {
      "cell_type": "code",
      "metadata": {
        "colab": {
          "base_uri": "https://localhost:8080/"
        },
        "id": "hW8xqAZJJ8QN",
        "outputId": "68b8e657-0c15-41ea-dd90-fb0b01e734a7"
      },
      "source": [
        "data = load_boston()\r\n",
        "X = data.data\r\n",
        "y = data.target\r\n",
        "\r\n",
        "def ifsr(X, y, e=0.01):\r\n",
        "\r\n",
        "    # Standarization\r\n",
        "    X_data = (X - X.mean(axis=0)) / X.std(axis=0)\r\n",
        "\r\n",
        "    # Set initial betas to 0 and residual equal y\r\n",
        "    betas = np.zeros(X_data.shape[-1])\r\n",
        "    correlations = betas.copy()\r\n",
        "    resid = y\r\n",
        "\r\n",
        "    # Process\r\n",
        "    while True:\r\n",
        "        for index in range(X_data.shape[-1]):\r\n",
        "            r, p = pearsonr(X_data[:, index], resid)\r\n",
        "            correlations[index] = r\r\n",
        "        \r\n",
        "        if np.any(abs(correlations) > 1e-3):\r\n",
        "            # Get the most correlated X-j\r\n",
        "            high_corr = np.argmax(np.abs(correlations))\r\n",
        "\r\n",
        "            # Update Beta-j by factor-j\r\n",
        "            sign = np.dot(X_data[:, high_corr], resid)\r\n",
        "            factor = e * np.sign(sign)\r\n",
        "            betas[high_corr] += factor\r\n",
        "            \r\n",
        "            # Set the \"resid\" according to factor-j * Beta-j\r\n",
        "            resid -= (factor * X_data[:, high_corr])\r\n",
        "            \r\n",
        "            # print(correlations[high_corr])\r\n",
        "\r\n",
        "        else:\r\n",
        "            print(correlations)\r\n",
        "            break\r\n",
        "\r\n",
        "    return betas\r\n",
        "\r\n",
        "\r\n",
        "betas = ifsr(X, y)"
      ],
      "execution_count": 70,
      "outputs": [
        {
          "output_type": "stream",
          "text": [
            "[-4.63887596e-04  9.41472180e-05  2.97811400e-04  7.27887038e-04\n",
            " -3.83521081e-04 -9.02002323e-04  3.63988179e-04 -6.69730580e-04\n",
            "  9.06473773e-04 -1.23557818e-04  5.03533617e-04  1.84870237e-04\n",
            " -5.30697581e-04]\n"
          ],
          "name": "stdout"
        }
      ]
    },
    {
      "cell_type": "code",
      "metadata": {
        "colab": {
          "base_uri": "https://localhost:8080/"
        },
        "id": "QwM5gFMLM_Vh",
        "outputId": "b968806a-a7b0-40a6-fccd-54757d5d99a3"
      },
      "source": [
        "betas"
      ],
      "execution_count": 72,
      "outputs": [
        {
          "output_type": "execute_result",
          "data": {
            "text/plain": [
              "array([-0.92,  1.07,  0.13,  0.68, -2.04,  2.69,  0.01, -3.09,  2.62,\n",
              "       -2.04, -2.06,  0.85, -3.73])"
            ]
          },
          "metadata": {
            "tags": []
          },
          "execution_count": 72
        }
      ]
    },
    {
      "cell_type": "code",
      "metadata": {
        "colab": {
          "base_uri": "https://localhost:8080/"
        },
        "id": "3uDxUQZELkr0",
        "outputId": "79452925-80f7-4e60-c0dd-2b530f1e0eef"
      },
      "source": [
        "X_data = (X - X.mean(axis=0)) / X.std(axis=0)\r\n",
        "np.sum(X_data[0] * betas)"
      ],
      "execution_count": 71,
      "outputs": [
        {
          "output_type": "execute_result",
          "data": {
            "text/plain": [
              "7.487807633796663"
            ]
          },
          "metadata": {
            "tags": []
          },
          "execution_count": 71
        }
      ]
    }
  ]
}